{
 "cells": [
  {
   "cell_type": "code",
   "execution_count": 1,
   "id": "b5f5945d",
   "metadata": {},
   "outputs": [],
   "source": [
    "%load_ext cython"
   ]
  },
  {
   "cell_type": "markdown",
   "id": "ac54f633",
   "metadata": {},
   "source": [
    "# num_threads=1"
   ]
  },
  {
   "cell_type": "code",
   "execution_count": 2,
   "id": "1cbf85c6",
   "metadata": {},
   "outputs": [],
   "source": [
    "%%cython --force -c=/openmp\n",
    "import cython\n",
    "from cython.parallel import prange\n",
    "\n",
    "@cython.boundscheck(False)\n",
    "@cython.wraparound(False)\n",
    "cpdef double compute_pi_parallel_1(int num_steps):\n",
    "    cdef double step = 1.0 / num_steps\n",
    "    cdef double x, pi = 0.0\n",
    "    cdef int i\n",
    "\n",
    "    for i in prange(num_steps, nogil=True, num_threads=1):\n",
    "        x = (i + 0.5) * step\n",
    "        pi += 4.0 / (1.0 + x*x)\n",
    "\n",
    "    return step * pi"
   ]
  },
  {
   "cell_type": "code",
   "execution_count": 3,
   "id": "776187fa",
   "metadata": {},
   "outputs": [
    {
     "name": "stdout",
     "output_type": "stream",
     "text": [
      "1.51 s ± 60.1 ms per loop (mean ± std. dev. of 7 runs, 1 loop each)\n"
     ]
    }
   ],
   "source": [
    "%timeit compute_pi_parallel_1(100000000)"
   ]
  },
  {
   "cell_type": "markdown",
   "id": "20113ef0",
   "metadata": {},
   "source": [
    "# num_threads=4"
   ]
  },
  {
   "cell_type": "code",
   "execution_count": 4,
   "id": "d5c11391",
   "metadata": {},
   "outputs": [],
   "source": [
    "%%cython --force -c=/openmp\n",
    "import cython\n",
    "from cython.parallel import prange\n",
    "\n",
    "@cython.boundscheck(False)\n",
    "@cython.wraparound(False)\n",
    "cpdef double compute_pi_parallel_4(int num_steps):\n",
    "    cdef double step = 1.0 / num_steps\n",
    "    cdef double x, pi = 0.0\n",
    "    cdef int i\n",
    "\n",
    "    for i in prange(num_steps, nogil=True, num_threads=4):\n",
    "        x = (i + 0.5) * step\n",
    "        pi += 4.0 / (1.0 + x*x)\n",
    "\n",
    "    return step * pi"
   ]
  },
  {
   "cell_type": "code",
   "execution_count": 5,
   "id": "3c2a473c",
   "metadata": {},
   "outputs": [
    {
     "name": "stdout",
     "output_type": "stream",
     "text": [
      "464 ms ± 15.3 ms per loop (mean ± std. dev. of 7 runs, 1 loop each)\n"
     ]
    }
   ],
   "source": [
    "%timeit compute_pi_parallel_4(100000000)"
   ]
  },
  {
   "cell_type": "markdown",
   "id": "2615d735",
   "metadata": {},
   "source": [
    "# num_threads=6"
   ]
  },
  {
   "cell_type": "code",
   "execution_count": 6,
   "id": "b28e412d",
   "metadata": {},
   "outputs": [],
   "source": [
    "%%cython --force -c=/openmp\n",
    "import cython\n",
    "from cython.parallel import prange\n",
    "\n",
    "@cython.boundscheck(False)\n",
    "@cython.wraparound(False)\n",
    "cpdef double compute_pi_parallel_6(int num_steps):\n",
    "    cdef double step = 1.0 / num_steps\n",
    "    cdef double x, pi = 0.0\n",
    "    cdef int i\n",
    "\n",
    "    for i in prange(num_steps, nogil=True, num_threads=6):\n",
    "        x = (i + 0.5) * step\n",
    "        pi += 4.0 / (1.0 + x*x)\n",
    "\n",
    "    return step * pi"
   ]
  },
  {
   "cell_type": "code",
   "execution_count": 7,
   "id": "0a8df977",
   "metadata": {},
   "outputs": [
    {
     "name": "stdout",
     "output_type": "stream",
     "text": [
      "322 ms ± 15.9 ms per loop (mean ± std. dev. of 7 runs, 1 loop each)\n"
     ]
    }
   ],
   "source": [
    "%timeit compute_pi_parallel_6(100000000)"
   ]
  }
 ],
 "metadata": {
  "kernelspec": {
   "display_name": "Python 3 (ipykernel)",
   "language": "python",
   "name": "python3"
  },
  "language_info": {
   "codemirror_mode": {
    "name": "ipython",
    "version": 3
   },
   "file_extension": ".py",
   "mimetype": "text/x-python",
   "name": "python",
   "nbconvert_exporter": "python",
   "pygments_lexer": "ipython3",
   "version": "3.9.13"
  }
 },
 "nbformat": 4,
 "nbformat_minor": 5
}
